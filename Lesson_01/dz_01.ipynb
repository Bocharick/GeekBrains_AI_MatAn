{
 "cells": [
  {
   "cell_type": "code",
   "execution_count": 1,
   "metadata": {},
   "outputs": [],
   "source": [
    "import numpy as np"
   ]
  },
  {
   "cell_type": "markdown",
   "metadata": {},
   "source": [
    "**1) Как относятся друг к другу множество и последовательность? (в ответе использовать слова типа: часть, целое, общее, частное, родитель, дочерний субъект и т.д.)?**"
   ]
  },
  {
   "cell_type": "markdown",
   "metadata": {},
   "source": [
    "Последовательность это функция аргументом которой является элемент из множества натуральных чисел. Значения этой функции принадлежат некоторому множеству, которое называется областью значения функции."
   ]
  },
  {
   "cell_type": "code",
   "execution_count": null,
   "metadata": {},
   "outputs": [],
   "source": []
  },
  {
   "cell_type": "code",
   "execution_count": null,
   "metadata": {},
   "outputs": [],
   "source": []
  },
  {
   "cell_type": "code",
   "execution_count": null,
   "metadata": {},
   "outputs": [],
   "source": []
  },
  {
   "cell_type": "markdown",
   "metadata": {},
   "source": [
    "**2) Прочитать высказывания математической логики, построить их отрицания и *установить истинность.***\n"
   ]
  },
  {
   "cell_type": "markdown",
   "metadata": {},
   "source": [
    "$\\forall y \\in[0 ; 1] : \\operatorname{sgn}(y)=1$\n",
    "\n",
    "Для любого y, принадлежащего отрезку от 0 до 1 включительно, верно, что значение функции sgn(y) равно 1.  \n",
    "**Это выражение ложно.**  \n",
    "\n",
    "Отрицание:  \n",
    "$\\exists y \\in[0 ; 1] : \\operatorname{sgn}(y)\\not=1$"
   ]
  },
  {
   "cell_type": "code",
   "execution_count": null,
   "metadata": {},
   "outputs": [],
   "source": []
  },
  {
   "cell_type": "markdown",
   "metadata": {},
   "source": [
    "$\\forall n \\in \\mathbb{N}>2 : \\exists x, y, z \\in \\mathbb{N} : x^{n}=y^{n}+z^{n}$\n",
    "\n",
    "Для любого n из множества натуральных чисел и больше 2 существуют такие x,y,z из множества натуральных чисел, что справедливо равенство x^n = y^n + z^n  \n",
    "**Это выражение ложно.**  \n",
    "\n",
    "Отрицание:  \n",
    "$\\exists n \\in \\mathbb{N}>2 : \\forall x, y, z \\in \\mathbb{N} : x^{n}\\not=y^{n}+z^{n}$\n"
   ]
  },
  {
   "cell_type": "code",
   "execution_count": null,
   "metadata": {},
   "outputs": [],
   "source": []
  },
  {
   "cell_type": "markdown",
   "metadata": {},
   "source": []
  },
  {
   "cell_type": "markdown",
   "metadata": {},
   "source": [
    "$\\forall x \\in \\mathbb{R} \\exists X \\in \\mathbb{R} : X>x$\n",
    "\n",
    "Для любого x из множества действительных чисел существует такое X из множества действительных чисел, что X > x.  \n",
    "**Это выражение истинно.**  \n",
    "\n",
    "Отрицание:  \n",
    "$\\exists x \\in \\mathbb{R} \\forall X \\in \\mathbb{R} : X\\leq x$\n"
   ]
  },
  {
   "cell_type": "code",
   "execution_count": null,
   "metadata": {},
   "outputs": [],
   "source": []
  },
  {
   "cell_type": "markdown",
   "metadata": {},
   "source": [
    "$\\forall x \\in \\mathbb{C} \\not \\exists y \\in \\mathbb{C} : x>y \\| x<y$\n",
    "\n",
    "Для любого х из множества комплексных чисел не существует такого y из множества комплексных чисел что справедливо неравенство x > y или x < y  \n",
    "**Это выражение ложно, так как нельзя сравнивать комплексные числа на отношение больше/меньше.**  \n",
    "\n",
    "Отрицание:  \n",
    "$\\exists x \\in \\mathbb{C} \\exists y \\in \\mathbb{C} : x \\leq y , x \\geq y$"
   ]
  },
  {
   "cell_type": "code",
   "execution_count": null,
   "metadata": {},
   "outputs": [],
   "source": []
  },
  {
   "cell_type": "markdown",
   "metadata": {},
   "source": [
    "$\\forall y \\in\\left[0 ; \\frac{\\pi}{2}\\right] \\exists \\varepsilon>0 : \\sin y<\\sin (y+\\varepsilon)$\n",
    "\n",
    "Для любого y, принадлежащего отрезку от 0 до $\\frac{\\pi}2$ включительно, существует такое положительное значение $\\varepsilon$, что справедливо неравенство sin(y) < sin(y+$\\varepsilon$)  \n",
    "**Это выражение ложно.**  \n",
    "\n",
    "Отрицание:  \n",
    "$\\exists y \\in\\left[0 ; \\frac{\\pi}{2}\\right] \\forall \\varepsilon>0 : \\sin y \\geq \\sin (y+\\varepsilon)$"
   ]
  },
  {
   "cell_type": "code",
   "execution_count": null,
   "metadata": {},
   "outputs": [],
   "source": []
  },
  {
   "cell_type": "markdown",
   "metadata": {},
   "source": [
    "$\\forall y \\in[0 ; \\pi) \\exists \\varepsilon>0 : \\cos y>\\cos (y+\\varepsilon)$"
   ]
  },
  {
   "cell_type": "markdown",
   "metadata": {},
   "source": [
    "Для любого y, принадлежащего отрезку от 0 включительно до ${\\pi}$ ислючительно, существует такое положительное значение $\\varepsilon$, что справедливо неравенство cos(y) > cos(y+$\\varepsilon$)  \n",
    "**Это выражение ложно.**  \n",
    "\n",
    "Отрицание:  \n",
    "$\\exists y \\in[0 ; \\pi) \\forall \\varepsilon>0 : \\cos y \\leq \\cos (y+\\varepsilon)$\n"
   ]
  },
  {
   "cell_type": "code",
   "execution_count": null,
   "metadata": {},
   "outputs": [],
   "source": []
  },
  {
   "cell_type": "markdown",
   "metadata": {},
   "source": [
    "$\\exists x : x \\notin\\{\\mathbb{N}, \\mathbb{Z}, \\mathbb{Q}, \\mathbb{R}, \\mathbb{C}\\}$"
   ]
  },
  {
   "cell_type": "markdown",
   "metadata": {},
   "source": [
    "Для любого х справедливо, что х принадлежит множеству натуральных или целых или рациональных или вещественных или комплексных чисел.  \n",
    "**Это варажение ложно.**  \n",
    "Отрицание:  \n",
    "$\\forall x : x \\in\\{\\mathbb{C}\\}$\n"
   ]
  },
  {
   "cell_type": "code",
   "execution_count": null,
   "metadata": {},
   "outputs": [],
   "source": []
  },
  {
   "cell_type": "code",
   "execution_count": null,
   "metadata": {},
   "outputs": [],
   "source": []
  },
  {
   "cell_type": "markdown",
   "metadata": {},
   "source": [
    "**3.1) Даны три множества a,b и с. Необходимо выполнить все изученные виды бинарных операций над всеми комбинациями множеств.**"
   ]
  },
  {
   "cell_type": "markdown",
   "metadata": {},
   "source": [
    "###### Памятка для себя\n",
    "**Бинарные операции**:  \n",
    "1) Пересечение  \n",
    "2) Объединение  \n",
    "3) Разность  \n",
    "4) Симметрическая разность  \n",
    "5) Декартово произведение  \n",
    "\n",
    "**Унарные операции**:  \n",
    "1) Дополнение  \n",
    "2) Булеан\n",
    "\n",
    "**Порядок выполнения:**  \n",
    "В первую очередь выполняются унарные операции, затем пересечение, затем все остальные (слева направо), имеющие равный приоритет."
   ]
  },
  {
   "cell_type": "code",
   "execution_count": 2,
   "metadata": {},
   "outputs": [],
   "source": [
    "A = set([10,20,30,40])\n",
    "B = set([20,40,60,80,100])\n",
    "C = set([10, 20, 30, 40, 50, 60, 70, 80, 90, 100, 110])"
   ]
  },
  {
   "cell_type": "code",
   "execution_count": 3,
   "metadata": {},
   "outputs": [
    {
     "data": {
      "text/plain": [
       "{10, 30, 50, 70, 90, 110}"
      ]
     },
     "execution_count": 3,
     "metadata": {},
     "output_type": "execute_result"
    }
   ],
   "source": [
    "C - B"
   ]
  },
  {
   "cell_type": "code",
   "execution_count": 4,
   "metadata": {},
   "outputs": [
    {
     "data": {
      "text/plain": [
       "{50, 70, 90, 110}"
      ]
     },
     "execution_count": 4,
     "metadata": {},
     "output_type": "execute_result"
    }
   ],
   "source": [
    "C - B - A"
   ]
  },
  {
   "cell_type": "code",
   "execution_count": null,
   "metadata": {},
   "outputs": [],
   "source": []
  },
  {
   "cell_type": "code",
   "execution_count": null,
   "metadata": {},
   "outputs": [],
   "source": []
  },
  {
   "cell_type": "code",
   "execution_count": null,
   "metadata": {},
   "outputs": [],
   "source": []
  },
  {
   "cell_type": "code",
   "execution_count": null,
   "metadata": {},
   "outputs": [],
   "source": []
  },
  {
   "cell_type": "markdown",
   "metadata": {},
   "source": [
    "**3.2) *Выполнить задание 3.1 на языке Python**"
   ]
  },
  {
   "cell_type": "code",
   "execution_count": null,
   "metadata": {},
   "outputs": [],
   "source": []
  },
  {
   "cell_type": "code",
   "execution_count": null,
   "metadata": {},
   "outputs": [],
   "source": []
  },
  {
   "cell_type": "code",
   "execution_count": null,
   "metadata": {},
   "outputs": [],
   "source": []
  },
  {
   "cell_type": "code",
   "execution_count": null,
   "metadata": {},
   "outputs": [],
   "source": []
  },
  {
   "cell_type": "code",
   "execution_count": null,
   "metadata": {},
   "outputs": [],
   "source": []
  },
  {
   "cell_type": "code",
   "execution_count": null,
   "metadata": {},
   "outputs": [],
   "source": []
  },
  {
   "cell_type": "code",
   "execution_count": null,
   "metadata": {},
   "outputs": [],
   "source": []
  },
  {
   "cell_type": "code",
   "execution_count": null,
   "metadata": {},
   "outputs": [],
   "source": []
  },
  {
   "cell_type": "code",
   "execution_count": null,
   "metadata": {},
   "outputs": [],
   "source": []
  },
  {
   "cell_type": "markdown",
   "metadata": {},
   "source": [
    "**5.1)  *На языке Python предложить алгоритм вычисляющий численно предел $$\\lim _{n \\rightarrow+\\infty} \\frac{n}{\\sqrt[n]{n !}}$$ с точностью $\\varepsilon=10^{-7}$**\n"
   ]
  },
  {
   "attachments": {},
   "cell_type": "markdown",
   "metadata": {},
   "source": [
    "##### формула Стирлинга (также формула Муавра — Стирлинга) для аппроксимации функции факториала  \n",
    "$$n ! \\approx \\sqrt{2 \\pi n}\\left(\\frac{n}{e}\\right)^{n}$$  "
   ]
  },
  {
   "cell_type": "markdown",
   "metadata": {},
   "source": [
    "После подстановки формулы Стирлинга в функцию получаем:  \n",
    "$$\\lim _{n \\rightarrow+\\infty} \\frac{e}{\\sqrt[2n]{\\pi n}}$$"
   ]
  },
  {
   "cell_type": "code",
   "execution_count": 5,
   "metadata": {},
   "outputs": [],
   "source": [
    "def f(n):\n",
    "    return (np.exp(1))/((np.pi*n)**(1/(2*n)))"
   ]
  },
  {
   "cell_type": "markdown",
   "metadata": {},
   "source": [
    "Так как значения функции Стирлинга имеют приближенное значение к значению функции факториала, с разницей, ориентировочно, в 1 порядок, будем искать значение такие два ближайшие значения функции Стрилинга, разность которых равна 0.00000001"
   ]
  },
  {
   "cell_type": "code",
   "execution_count": 6,
   "metadata": {},
   "outputs": [
    {
     "name": "stdout",
     "output_type": "stream",
     "text": [
      "38121 2.717864957011133 2.7178649470113654\n"
     ]
    }
   ],
   "source": [
    "prev = f(1)\n",
    "for i in range(2, 200000000):\n",
    "    new_val = f(i)\n",
    "    if new_val - prev > 0.00000001:\n",
    "        prev = new_val\n",
    "    else:\n",
    "        print(i, new_val, prev)\n",
    "        break"
   ]
  },
  {
   "cell_type": "markdown",
   "metadata": {},
   "source": [
    "За 38121 итерацию установлено что с точностью $\\varepsilon=10^{-7}$ значение предела функции равно 2.717864957011133"
   ]
  },
  {
   "cell_type": "markdown",
   "metadata": {},
   "source": [
    "**5.2) *Предложить оптимизацию алгоритма, полученного в задании 5.1, ускоряющую его сходимость.**"
   ]
  },
  {
   "cell_type": "markdown",
   "metadata": {},
   "source": [
    "Для уменьшения количества итераций можно ускорить перебор значений n"
   ]
  },
  {
   "cell_type": "code",
   "execution_count": 7,
   "metadata": {},
   "outputs": [
    {
     "name": "stdout",
     "output_type": "stream",
     "text": [
      "2000000000 2.7182818131271587 2.7182818205575807\n",
      "Iters num: 10\n"
     ]
    }
   ],
   "source": [
    "i = 2\n",
    "iters_num = 0\n",
    "while True:\n",
    "    iters_num += 1\n",
    "    prev = f(i*2)\n",
    "    new_val = f(i)\n",
    "    dif_sign = np.log10(abs(new_val - prev))\n",
    "#     print(dif_sign)\n",
    "    if dif_sign > -8:\n",
    "        i *= 10\n",
    "    else:\n",
    "        print(i, new_val, prev)\n",
    "        print(\"Iters num:\", iters_num)\n",
    "        break"
   ]
  },
  {
   "cell_type": "markdown",
   "metadata": {},
   "source": [
    "За десять итераций и двадцать просчетов функции Стирлинга мы получили более точное значение предела функции"
   ]
  },
  {
   "cell_type": "code",
   "execution_count": null,
   "metadata": {},
   "outputs": [],
   "source": []
  },
  {
   "cell_type": "code",
   "execution_count": null,
   "metadata": {},
   "outputs": [],
   "source": []
  },
  {
   "cell_type": "code",
   "execution_count": null,
   "metadata": {},
   "outputs": [],
   "source": []
  }
 ],
 "metadata": {
  "kernelspec": {
   "display_name": "Python 3",
   "language": "python",
   "name": "python3"
  },
  "language_info": {
   "codemirror_mode": {
    "name": "ipython",
    "version": 3
   },
   "file_extension": ".py",
   "mimetype": "text/x-python",
   "name": "python",
   "nbconvert_exporter": "python",
   "pygments_lexer": "ipython3",
   "version": "3.7.1"
  }
 },
 "nbformat": 4,
 "nbformat_minor": 2
}
